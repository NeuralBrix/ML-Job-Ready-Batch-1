{
 "cells": [
  {
   "cell_type": "code",
   "execution_count": 1,
   "id": "cc354bf1",
   "metadata": {},
   "outputs": [
    {
     "name": "stdout",
     "output_type": "stream",
     "text": [
      "Hello Mehedi\n"
     ]
    }
   ],
   "source": [
    "print(\"Hello Mehedi\")"
   ]
  },
  {
   "cell_type": "code",
   "execution_count": 2,
   "id": "e59bde3e",
   "metadata": {},
   "outputs": [
    {
     "name": "stdout",
     "output_type": "stream",
     "text": [
      "Hello komola\n"
     ]
    }
   ],
   "source": [
    "print(\"Hello komola\")"
   ]
  },
  {
   "cell_type": "code",
   "execution_count": 3,
   "id": "0ced1c25",
   "metadata": {},
   "outputs": [
    {
     "name": "stdout",
     "output_type": "stream",
     "text": [
      "Hello Nazmul\n"
     ]
    }
   ],
   "source": [
    "print(\"Hello Nazmul\")"
   ]
  },
  {
   "cell_type": "code",
   "execution_count": 4,
   "id": "e98dc50a",
   "metadata": {},
   "outputs": [],
   "source": [
    "def greetings(name):\n",
    "    print(f\"Hello {name}\")"
   ]
  },
  {
   "cell_type": "code",
   "execution_count": null,
   "id": "bd9f4f3f",
   "metadata": {},
   "outputs": [],
   "source": []
  },
  {
   "cell_type": "code",
   "execution_count": 5,
   "id": "79163dee",
   "metadata": {},
   "outputs": [
    {
     "name": "stdout",
     "output_type": "stream",
     "text": [
      "Hello Mehedi\n"
     ]
    }
   ],
   "source": [
    "greetings(\"Mehedi\")"
   ]
  },
  {
   "cell_type": "code",
   "execution_count": 6,
   "id": "310ba6be",
   "metadata": {},
   "outputs": [
    {
     "name": "stdout",
     "output_type": "stream",
     "text": [
      "Hello komola\n"
     ]
    }
   ],
   "source": [
    "greetings(\"komola\")"
   ]
  },
  {
   "cell_type": "code",
   "execution_count": 7,
   "id": "adc41722",
   "metadata": {},
   "outputs": [
    {
     "name": "stdout",
     "output_type": "stream",
     "text": [
      "Hello Nazmul\n"
     ]
    }
   ],
   "source": [
    "greetings(\"Nazmul\")"
   ]
  },
  {
   "cell_type": "code",
   "execution_count": 8,
   "id": "c143efbc",
   "metadata": {},
   "outputs": [],
   "source": [
    "def my_name():\n",
    "    print(\"Mehedi Hasan\")"
   ]
  },
  {
   "cell_type": "code",
   "execution_count": 10,
   "id": "4ec12561",
   "metadata": {},
   "outputs": [
    {
     "name": "stdout",
     "output_type": "stream",
     "text": [
      "Mehedi Hasan\n"
     ]
    }
   ],
   "source": [
    "my_name()"
   ]
  },
  {
   "cell_type": "code",
   "execution_count": 11,
   "id": "ee975240",
   "metadata": {},
   "outputs": [
    {
     "name": "stdout",
     "output_type": "stream",
     "text": [
      "Mehedi Hasan\n"
     ]
    }
   ],
   "source": [
    "my_name() "
   ]
  },
  {
   "cell_type": "code",
   "execution_count": null,
   "id": "1d3aabaa",
   "metadata": {},
   "outputs": [],
   "source": [
    "# kinds of parameters"
   ]
  },
  {
   "cell_type": "code",
   "execution_count": 23,
   "id": "cf4700c8",
   "metadata": {},
   "outputs": [],
   "source": [
    "#1st positional \n",
    "def area(radius, length): #circle area\n",
    "    print((3.14 * radius * radius) + length)"
   ]
  },
  {
   "cell_type": "code",
   "execution_count": 32,
   "id": "3c269366",
   "metadata": {},
   "outputs": [
    {
     "name": "stdout",
     "output_type": "stream",
     "text": [
      "317.0\n"
     ]
    }
   ],
   "source": [
    "area(10,3)"
   ]
  },
  {
   "cell_type": "code",
   "execution_count": 33,
   "id": "8fd5fafc",
   "metadata": {},
   "outputs": [
    {
     "name": "stdout",
     "output_type": "stream",
     "text": [
      "38.26\n"
     ]
    }
   ],
   "source": [
    "area(3, 10) # 3 is the radius"
   ]
  },
  {
   "cell_type": "code",
   "execution_count": null,
   "id": "5a81d4b1",
   "metadata": {},
   "outputs": [],
   "source": []
  },
  {
   "cell_type": "code",
   "execution_count": 30,
   "id": "1dd24a3f",
   "metadata": {},
   "outputs": [],
   "source": [
    "# 2nd keyword\n",
    "def area(radius, length=5): #circle area\n",
    "    print((3.14 * radius * radius) + length)    "
   ]
  },
  {
   "cell_type": "code",
   "execution_count": 28,
   "id": "ab817878",
   "metadata": {},
   "outputs": [
    {
     "name": "stdout",
     "output_type": "stream",
     "text": [
      "38.26\n"
     ]
    }
   ],
   "source": [
    "area(3, 10) # 3 is the radius"
   ]
  },
  {
   "cell_type": "code",
   "execution_count": 34,
   "id": "7db2ded5",
   "metadata": {},
   "outputs": [
    {
     "name": "stdout",
     "output_type": "stream",
     "text": [
      "38.26\n"
     ]
    }
   ],
   "source": [
    "area(radius=3, length=10) # 3 is the radius"
   ]
  },
  {
   "cell_type": "code",
   "execution_count": 31,
   "id": "ff670827",
   "metadata": {},
   "outputs": [
    {
     "name": "stdout",
     "output_type": "stream",
     "text": [
      "38.26\n"
     ]
    }
   ],
   "source": [
    "area( length=10, radius=3,) # 3 is the radius"
   ]
  },
  {
   "cell_type": "code",
   "execution_count": 48,
   "id": "d7811b09",
   "metadata": {},
   "outputs": [],
   "source": [
    "# 3rd var-positional arguments\n",
    "def area(*args,a): #circle area\n",
    "    print(\"look at this \", *args)\n",
    "    print(sum(args))"
   ]
  },
  {
   "cell_type": "code",
   "execution_count": 50,
   "id": "ebf61e0b",
   "metadata": {},
   "outputs": [
    {
     "name": "stdout",
     "output_type": "stream",
     "text": [
      "look at this  3 10 3 3 4 5 5 6 7 8 6 5 4 3 4 5 6 7 7 8 5 100\n",
      "214\n"
     ]
    }
   ],
   "source": [
    "area(3, 10, 3,3,4,5,5,6,7,8,6,5,4,3,4,5,6,7,7,8,5,100, a= 200)"
   ]
  },
  {
   "cell_type": "code",
   "execution_count": null,
   "id": "352e5d48",
   "metadata": {},
   "outputs": [],
   "source": [
    "#4h keyword only\n",
    "def area(radius, *, length=5): #circle area\n",
    "    print((3.14 * radius * radius) + length)"
   ]
  },
  {
   "cell_type": "code",
   "execution_count": null,
   "id": "a2bdfda2",
   "metadata": {},
   "outputs": [],
   "source": []
  },
  {
   "cell_type": "code",
   "execution_count": 17,
   "id": "99217b37",
   "metadata": {},
   "outputs": [
    {
     "name": "stdout",
     "output_type": "stream",
     "text": [
      "{'radius': 3, 'length': 10, 'width': 5, 'height': 6}\n",
      "radius : 3\n",
      "length : 10\n",
      "width : 5\n",
      "height : 6\n",
      "dict_values([3, 10, 5, 6])\n",
      "dict_keys(['radius', 'length', 'width', 'height'])\n"
     ]
    }
   ],
   "source": [
    "# var-keyword arguments\n",
    "def area(**kwargs): #circle area\n",
    "    print(kwargs)\n",
    "    for key, value in kwargs.items():\n",
    "        print(f\"{key} : {value}\")\n",
    "    print(kwargs.values())\n",
    "    print(kwargs.keys())\n",
    "area(radius=3, length=10, width=5, height=6)\n"
   ]
  },
  {
   "cell_type": "code",
   "execution_count": null,
   "id": "975e2828",
   "metadata": {},
   "outputs": [],
   "source": [
    "area()"
   ]
  },
  {
   "cell_type": "code",
   "execution_count": null,
   "id": "e58feb9a",
   "metadata": {},
   "outputs": [],
   "source": []
  },
  {
   "cell_type": "code",
   "execution_count": 32,
   "id": "9a06eec7",
   "metadata": {},
   "outputs": [],
   "source": [
    "# 4th keyword only arguments\n",
    "def area(*,radius, length): #circle area\n",
    "    print((3.14 * radius * radius) + length)   "
   ]
  },
  {
   "cell_type": "code",
   "execution_count": 34,
   "id": "1f4490e5",
   "metadata": {},
   "outputs": [
    {
     "name": "stdout",
     "output_type": "stream",
     "text": [
      "38.26\n"
     ]
    }
   ],
   "source": [
    "area(radius=3, length=10) # 3 is the radius"
   ]
  },
  {
   "cell_type": "code",
   "execution_count": 43,
   "id": "1579bd46",
   "metadata": {},
   "outputs": [],
   "source": [
    "#5th positional  only\n",
    "def area(radius, length, /): #circle area\n",
    "    print((3.14 * radius * radius) + length)"
   ]
  },
  {
   "cell_type": "code",
   "execution_count": 46,
   "id": "cc580d58",
   "metadata": {},
   "outputs": [
    {
     "name": "stdout",
     "output_type": "stream",
     "text": [
      "38.26\n"
     ]
    }
   ],
   "source": [
    "area(3,10) # 3 is the radius"
   ]
  },
  {
   "cell_type": "code",
   "execution_count": null,
   "id": "d88dc885",
   "metadata": {},
   "outputs": [],
   "source": [
    "# Function signature\n",
    "def f(a,/,b,c=10,*args,d=2, **kwargs):\n",
    "    print(a,b,c,args,d,kwargs)\n"
   ]
  },
  {
   "cell_type": "code",
   "execution_count": null,
   "id": "c1e54a00",
   "metadata": {},
   "outputs": [],
   "source": []
  },
  {
   "cell_type": "code",
   "execution_count": null,
   "id": "68754246",
   "metadata": {},
   "outputs": [],
   "source": []
  }
 ],
 "metadata": {
  "kernelspec": {
   "display_name": "mljobVenv",
   "language": "python",
   "name": "python3"
  },
  "language_info": {
   "codemirror_mode": {
    "name": "ipython",
    "version": 3
   },
   "file_extension": ".py",
   "mimetype": "text/x-python",
   "name": "python",
   "nbconvert_exporter": "python",
   "pygments_lexer": "ipython3",
   "version": "3.10.18"
  }
 },
 "nbformat": 4,
 "nbformat_minor": 5
}
