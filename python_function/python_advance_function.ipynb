{
 "cells": [
  {
   "cell_type": "code",
   "execution_count": null,
   "id": "eaba45c3",
   "metadata": {},
   "outputs": [],
   "source": [
    "# LEGB \n",
    "# buitin scope : print, len, range, etc"
   ]
  },
  {
   "cell_type": "code",
   "execution_count": 21,
   "id": "5f8699a4",
   "metadata": {},
   "outputs": [
    {
     "name": "stdout",
     "output_type": "stream",
     "text": [
      "Global X \n"
     ]
    }
   ],
   "source": [
    "x = \"Global X \"\n",
    "def outer():\n",
    "    x = \"Enclosing X\"\n",
    "    def inner():\n",
    "        x = \"Local X\"\n",
    "        print(x)\n",
    "    inner() # prints \"Local X\"\n",
    "    print(x) # prints \"Enclosing X\"\n",
    "print(x)"
   ]
  },
  {
   "cell_type": "code",
   "execution_count": 22,
   "id": "9aa7a582",
   "metadata": {},
   "outputs": [
    {
     "name": "stdout",
     "output_type": "stream",
     "text": [
      "Local X\n",
      "Enclosing X\n"
     ]
    }
   ],
   "source": [
    "outer() "
   ]
  }
 ],
 "metadata": {
  "kernelspec": {
   "display_name": "mljobVenv",
   "language": "python",
   "name": "python3"
  },
  "language_info": {
   "codemirror_mode": {
    "name": "ipython",
    "version": 3
   },
   "file_extension": ".py",
   "mimetype": "text/x-python",
   "name": "python",
   "nbconvert_exporter": "python",
   "pygments_lexer": "ipython3",
   "version": "3.10.18"
  }
 },
 "nbformat": 4,
 "nbformat_minor": 5
}
