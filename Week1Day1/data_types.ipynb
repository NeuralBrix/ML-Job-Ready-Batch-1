{
 "cells": [
  {
   "cell_type": "code",
   "execution_count": 1,
   "id": "6fca7672",
   "metadata": {},
   "outputs": [
    {
     "name": "stdout",
     "output_type": "stream",
     "text": [
      "hello world\n"
     ]
    }
   ],
   "source": [
    "print(\"hello world\")"
   ]
  },
  {
   "cell_type": "code",
   "execution_count": null,
   "id": "1e018681",
   "metadata": {},
   "outputs": [
    {
     "name": "stdout",
     "output_type": "stream",
     "text": [
      "Integer: 5\n"
     ]
    }
   ],
   "source": [
    "#integer \n",
    "x = 5\n",
    "print(\"Integer:\", x)\n"
   ]
  },
  {
   "cell_type": "code",
   "execution_count": 2,
   "id": "79feff71",
   "metadata": {},
   "outputs": [
    {
     "name": "stdout",
     "output_type": "stream",
     "text": [
      "Float: 3.14\n"
     ]
    }
   ],
   "source": [
    "#float\n",
    "y = 3.14    \n",
    "print(\"Float:\", y)"
   ]
  },
  {
   "cell_type": "code",
   "execution_count": null,
   "id": "5e8f50af",
   "metadata": {},
   "outputs": [],
   "source": [
    "#String\n",
    "name = \"Mehedi Hasan\"\n",
    "print(\"String:\", name)"
   ]
  },
  {
   "cell_type": "code",
   "execution_count": null,
   "id": "501e9e7f",
   "metadata": {},
   "outputs": [],
   "source": [
    "#character\n",
    "char = 'A'  \n",
    "print(\"Character:\", char)"
   ]
  },
  {
   "cell_type": "code",
   "execution_count": null,
   "id": "8789fa3f",
   "metadata": {},
   "outputs": [
    {
     "name": "stdout",
     "output_type": "stream",
     "text": [
      "Boolean: False\n"
     ]
    }
   ],
   "source": [
    "b = False\n",
    "print(\"Boolean:\", bool)"
   ]
  }
 ],
 "metadata": {
  "kernelspec": {
   "display_name": "mljobVenv",
   "language": "python",
   "name": "python3"
  },
  "language_info": {
   "codemirror_mode": {
    "name": "ipython",
    "version": 3
   },
   "file_extension": ".py",
   "mimetype": "text/x-python",
   "name": "python",
   "nbconvert_exporter": "python",
   "pygments_lexer": "ipython3",
   "version": "3.10.18"
  }
 },
 "nbformat": 4,
 "nbformat_minor": 5
}
