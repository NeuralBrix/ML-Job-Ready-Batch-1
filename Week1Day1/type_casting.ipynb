{
 "cells": [
  {
   "cell_type": "code",
   "execution_count": null,
   "id": "c05c661c",
   "metadata": {},
   "outputs": [
    {
     "name": "stdout",
     "output_type": "stream",
     "text": [
      "Integer: 5\n",
      "Type of x: <class 'int'>\n",
      "String: 5\n",
      "Type of x after conversion: <class 'str'>\n",
      "Float: 5.0\n"
     ]
    }
   ],
   "source": [
    "#type casting\n",
    "\n",
    "x = 5\n",
    "print(\"Integer:\", x)\n",
    "print(\"Type of x:\", type(x))\n",
    "\n",
    "x = str(x)\n",
    "print(\"String:\", x)\n",
    "print(\"Type of x after conversion:\", type(x))\n",
    "\n",
    "x = float(x)\n",
    "print(\"Float:\", x)\n",
    "\n"
   ]
  },
  {
   "cell_type": "code",
   "execution_count": 7,
   "id": "46f788bf",
   "metadata": {},
   "outputs": [
    {
     "name": "stdout",
     "output_type": "stream",
     "text": [
      "String: Mehedi Hasan\n",
      "Type of name: <class 'str'>\n"
     ]
    }
   ],
   "source": [
    "name = \"Mehedi Hasan\"\n",
    "print(\"String:\", name)\n",
    "print(\"Type of name:\", type(name))\n",
    "\n"
   ]
  }
 ],
 "metadata": {
  "kernelspec": {
   "display_name": "mljobVenv",
   "language": "python",
   "name": "python3"
  },
  "language_info": {
   "codemirror_mode": {
    "name": "ipython",
    "version": 3
   },
   "file_extension": ".py",
   "mimetype": "text/x-python",
   "name": "python",
   "nbconvert_exporter": "python",
   "pygments_lexer": "ipython3",
   "version": "3.10.18"
  }
 },
 "nbformat": 4,
 "nbformat_minor": 5
}
