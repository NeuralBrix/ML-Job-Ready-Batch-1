{
 "cells": [
  {
   "cell_type": "code",
   "execution_count": 36,
   "id": "fea2432b",
   "metadata": {},
   "outputs": [
    {
     "name": "stdout",
     "output_type": "stream",
     "text": [
      "<class 'dict'>\n"
     ]
    }
   ],
   "source": [
    "# Python dictionary\n",
    "first_dictionary = {}\n",
    "print(type(first_dictionary))  # Output: <class 'dict'>\n",
    "#syntax: dictionary_name = {key1: value1, key2: value2}"
   ]
  },
  {
   "cell_type": "code",
   "execution_count": 37,
   "id": "4f330982",
   "metadata": {},
   "outputs": [
    {
     "data": {
      "text/plain": [
       "7130536704863151644"
      ]
     },
     "execution_count": 37,
     "metadata": {},
     "output_type": "execute_result"
    }
   ],
   "source": [
    "hash(\"accuracy\") "
   ]
  },
  {
   "cell_type": "code",
   "execution_count": 38,
   "id": "dfb86521",
   "metadata": {},
   "outputs": [
    {
     "data": {
      "text/plain": [
       "7130536704863151644"
      ]
     },
     "execution_count": 38,
     "metadata": {},
     "output_type": "execute_result"
    }
   ],
   "source": [
    "hash(\"accuracy\") "
   ]
  },
  {
   "cell_type": "code",
   "execution_count": 39,
   "id": "5f9bcdea",
   "metadata": {},
   "outputs": [
    {
     "data": {
      "text/plain": [
       "4"
      ]
     },
     "execution_count": 39,
     "metadata": {},
     "output_type": "execute_result"
    }
   ],
   "source": [
    "hash(\"accuracy\") % 8  "
   ]
  },
  {
   "cell_type": "code",
   "execution_count": 40,
   "id": "2ede6a74",
   "metadata": {},
   "outputs": [
    {
     "data": {
      "text/plain": [
       "1"
      ]
     },
     "execution_count": 40,
     "metadata": {},
     "output_type": "execute_result"
    }
   ],
   "source": [
    "3%2 "
   ]
  },
  {
   "cell_type": "code",
   "execution_count": 41,
   "id": "ab249f79",
   "metadata": {},
   "outputs": [],
   "source": [
    "params = {\n",
    "    \"learning_rate\": 0.01, \n",
    "    \"batch_size\": 32,\n",
    "    \"num_epochs\": 10\n",
    "    }"
   ]
  },
  {
   "cell_type": "code",
   "execution_count": 42,
   "id": "e46f1000",
   "metadata": {},
   "outputs": [
    {
     "data": {
      "text/plain": [
       "0.01"
      ]
     },
     "execution_count": 42,
     "metadata": {},
     "output_type": "execute_result"
    }
   ],
   "source": [
    "params[\"learning_rate\"] "
   ]
  },
  {
   "cell_type": "code",
   "execution_count": 43,
   "id": "2ad90e08",
   "metadata": {},
   "outputs": [],
   "source": [
    "# update the dictionary\n",
    "params[\"learning_rate\"] = 0.50"
   ]
  },
  {
   "cell_type": "code",
   "execution_count": 44,
   "id": "16c8e88d",
   "metadata": {},
   "outputs": [
    {
     "data": {
      "text/plain": [
       "{'learning_rate': 0.5, 'batch_size': 32, 'num_epochs': 10}"
      ]
     },
     "execution_count": 44,
     "metadata": {},
     "output_type": "execute_result"
    }
   ],
   "source": [
    "params "
   ]
  },
  {
   "cell_type": "code",
   "execution_count": 45,
   "id": "df401b8d",
   "metadata": {},
   "outputs": [],
   "source": [
    "# delete params[\"learning_rate\"]\n",
    "del params[\"learning_rate\"] "
   ]
  },
  {
   "cell_type": "code",
   "execution_count": 46,
   "id": "946721db",
   "metadata": {},
   "outputs": [
    {
     "data": {
      "text/plain": [
       "{'batch_size': 32, 'num_epochs': 10}"
      ]
     },
     "execution_count": 46,
     "metadata": {},
     "output_type": "execute_result"
    }
   ],
   "source": [
    "params"
   ]
  },
  {
   "cell_type": "code",
   "execution_count": 47,
   "id": "60bdbc66",
   "metadata": {},
   "outputs": [
    {
     "data": {
      "text/plain": [
       "2"
      ]
     },
     "execution_count": 47,
     "metadata": {},
     "output_type": "execute_result"
    }
   ],
   "source": [
    "len(params) "
   ]
  },
  {
   "cell_type": "code",
   "execution_count": 48,
   "id": "c36cc1a6",
   "metadata": {},
   "outputs": [],
   "source": [
    "params.pop(\"learning_rate\", None)  # Removes the key if it exists, returns None if not found``"
   ]
  },
  {
   "cell_type": "code",
   "execution_count": 49,
   "id": "43448587",
   "metadata": {},
   "outputs": [
    {
     "data": {
      "text/plain": [
       "32"
      ]
     },
     "execution_count": 49,
     "metadata": {},
     "output_type": "execute_result"
    }
   ],
   "source": [
    "params.pop(\"batch_size\") "
   ]
  },
  {
   "cell_type": "code",
   "execution_count": 50,
   "id": "fb21a5a7",
   "metadata": {},
   "outputs": [
    {
     "data": {
      "text/plain": [
       "{'num_epochs': 10}"
      ]
     },
     "execution_count": 50,
     "metadata": {},
     "output_type": "execute_result"
    }
   ],
   "source": [
    "params"
   ]
  },
  {
   "cell_type": "code",
   "execution_count": 51,
   "id": "2c39bda0",
   "metadata": {},
   "outputs": [],
   "source": [
    "params[\"Optimizer\"] = \"Adam\"  # Adding a new key-value pair"
   ]
  },
  {
   "cell_type": "code",
   "execution_count": 52,
   "id": "34319769",
   "metadata": {},
   "outputs": [
    {
     "data": {
      "text/plain": [
       "{'num_epochs': 10, 'Optimizer': 'Adam'}"
      ]
     },
     "execution_count": 52,
     "metadata": {},
     "output_type": "execute_result"
    }
   ],
   "source": [
    "params"
   ]
  },
  {
   "cell_type": "code",
   "execution_count": 53,
   "id": "93f7057f",
   "metadata": {},
   "outputs": [],
   "source": [
    "### faster test"
   ]
  },
  {
   "cell_type": "code",
   "execution_count": 1,
   "id": "3b4cdc94",
   "metadata": {},
   "outputs": [],
   "source": [
    "my_list = list()\n",
    "my_dict = dict()"
   ]
  },
  {
   "cell_type": "code",
   "execution_count": 2,
   "id": "06bafaba",
   "metadata": {},
   "outputs": [],
   "source": [
    "for i in range(100000000):\n",
    "    my_list.append(i)\n",
    "    my_dict[i] = i  "
   ]
  },
  {
   "cell_type": "code",
   "execution_count": 4,
   "id": "5674b676",
   "metadata": {},
   "outputs": [
    {
     "data": {
      "text/plain": [
       "100000000"
      ]
     },
     "execution_count": 4,
     "metadata": {},
     "output_type": "execute_result"
    }
   ],
   "source": [
    "len(my_list)  # Length of the list"
   ]
  },
  {
   "cell_type": "code",
   "execution_count": 5,
   "id": "f0d35cb6",
   "metadata": {},
   "outputs": [
    {
     "data": {
      "text/plain": [
       "100000000"
      ]
     },
     "execution_count": 5,
     "metadata": {},
     "output_type": "execute_result"
    }
   ],
   "source": [
    "len(my_dict)  # Length of the dictionary"
   ]
  },
  {
   "cell_type": "code",
   "execution_count": 6,
   "id": "a45514d7",
   "metadata": {},
   "outputs": [],
   "source": [
    "import time"
   ]
  },
  {
   "cell_type": "code",
   "execution_count": 8,
   "id": "038ae68c",
   "metadata": {},
   "outputs": [
    {
     "name": "stdout",
     "output_type": "stream",
     "text": [
      "True\n",
      "List access time: 0.8594076633453369\n"
     ]
    }
   ],
   "source": [
    "start_time = time.time()\n",
    "print(99999999 in my_list)\n",
    "end_time = time.time()\n",
    "print(\"List access time:\", end_time - start_time)"
   ]
  },
  {
   "cell_type": "code",
   "execution_count": 12,
   "id": "a3a56930",
   "metadata": {},
   "outputs": [
    {
     "name": "stdout",
     "output_type": "stream",
     "text": [
      "True\n",
      "List access time: 0.0010013580322265625\n"
     ]
    }
   ],
   "source": [
    "start_time = time.time()\n",
    "print(99999999 in my_dict)\n",
    "end_time = time.time()\n",
    "print(\"List access time:\", end_time - start_time)"
   ]
  },
  {
   "cell_type": "code",
   "execution_count": 61,
   "id": "f14aa90f",
   "metadata": {},
   "outputs": [
    {
     "data": {
      "text/plain": [
       "{'num_epochs': 10, 'Optimizer': 'Adam'}"
      ]
     },
     "execution_count": 61,
     "metadata": {},
     "output_type": "execute_result"
    }
   ],
   "source": [
    "params  "
   ]
  },
  {
   "cell_type": "code",
   "execution_count": 62,
   "id": "64a2ae4d",
   "metadata": {},
   "outputs": [
    {
     "data": {
      "text/plain": [
       "dict_keys(['num_epochs', 'Optimizer'])"
      ]
     },
     "execution_count": 62,
     "metadata": {},
     "output_type": "execute_result"
    }
   ],
   "source": [
    "params.keys() "
   ]
  },
  {
   "cell_type": "code",
   "execution_count": 63,
   "id": "72b40f58",
   "metadata": {},
   "outputs": [
    {
     "data": {
      "text/plain": [
       "dict_values([10, 'Adam'])"
      ]
     },
     "execution_count": 63,
     "metadata": {},
     "output_type": "execute_result"
    }
   ],
   "source": [
    "params.values() "
   ]
  },
  {
   "cell_type": "code",
   "execution_count": 64,
   "id": "f4102045",
   "metadata": {},
   "outputs": [
    {
     "data": {
      "text/plain": [
       "True"
      ]
     },
     "execution_count": 64,
     "metadata": {},
     "output_type": "execute_result"
    }
   ],
   "source": [
    "\"num_epochs\" in params "
   ]
  },
  {
   "cell_type": "code",
   "execution_count": 65,
   "id": "5ca194d9",
   "metadata": {},
   "outputs": [
    {
     "data": {
      "text/plain": [
       "False"
      ]
     },
     "execution_count": 65,
     "metadata": {},
     "output_type": "execute_result"
    }
   ],
   "source": [
    "\"Mehedi\" in params "
   ]
  },
  {
   "cell_type": "code",
   "execution_count": 66,
   "id": "d656e8a4",
   "metadata": {},
   "outputs": [
    {
     "data": {
      "text/plain": [
       "True"
      ]
     },
     "execution_count": 66,
     "metadata": {},
     "output_type": "execute_result"
    }
   ],
   "source": [
    "0.0009953975677490234<0.0009982585906982422  "
   ]
  },
  {
   "cell_type": "code",
   "execution_count": 67,
   "id": "34ef5391",
   "metadata": {},
   "outputs": [],
   "source": [
    "params.clear()"
   ]
  },
  {
   "cell_type": "code",
   "execution_count": 68,
   "id": "96943d70",
   "metadata": {},
   "outputs": [
    {
     "data": {
      "text/plain": [
       "{}"
      ]
     },
     "execution_count": 68,
     "metadata": {},
     "output_type": "execute_result"
    }
   ],
   "source": [
    "params "
   ]
  },
  {
   "cell_type": "code",
   "execution_count": 69,
   "id": "a33c41f2",
   "metadata": {},
   "outputs": [],
   "source": [
    "my_dict.clear() "
   ]
  },
  {
   "cell_type": "code",
   "execution_count": 31,
   "id": "814d698d",
   "metadata": {},
   "outputs": [],
   "source": [
    "params = {\"Accuracy\":99, \"epochs\": 12, \"optimizer\": \"adam\"}"
   ]
  },
  {
   "cell_type": "code",
   "execution_count": 32,
   "id": "f55eae3b",
   "metadata": {},
   "outputs": [
    {
     "data": {
      "text/plain": [
       "{'Accuracy': 99, 'epochs': 12, 'optimizer': 'adam'}"
      ]
     },
     "execution_count": 32,
     "metadata": {},
     "output_type": "execute_result"
    }
   ],
   "source": [
    "params"
   ]
  },
  {
   "cell_type": "code",
   "execution_count": 33,
   "id": "3c584a04",
   "metadata": {},
   "outputs": [
    {
     "ename": "KeyError",
     "evalue": "'dropout'",
     "output_type": "error",
     "traceback": [
      "\u001b[1;31m---------------------------------------------------------------------------\u001b[0m",
      "\u001b[1;31mKeyError\u001b[0m                                  Traceback (most recent call last)",
      "Cell \u001b[1;32mIn[33], line 1\u001b[0m\n\u001b[1;32m----> 1\u001b[0m \u001b[43mparams\u001b[49m\u001b[43m[\u001b[49m\u001b[38;5;124;43m\"\u001b[39;49m\u001b[38;5;124;43mdropout\u001b[39;49m\u001b[38;5;124;43m\"\u001b[39;49m\u001b[43m]\u001b[49m \n",
      "\u001b[1;31mKeyError\u001b[0m: 'dropout'"
     ]
    }
   ],
   "source": [
    "params[\"dropout\"] "
   ]
  },
  {
   "cell_type": "code",
   "execution_count": 34,
   "id": "ff80e769",
   "metadata": {},
   "outputs": [
    {
     "data": {
      "text/plain": [
       "'adam'"
      ]
     },
     "execution_count": 34,
     "metadata": {},
     "output_type": "execute_result"
    }
   ],
   "source": [
    "params.get(\"optimizer\", \"Not Found\")"
   ]
  },
  {
   "cell_type": "code",
   "execution_count": 35,
   "id": "9204fd29",
   "metadata": {},
   "outputs": [
    {
     "data": {
      "text/plain": [
       "{'Accuracy': 99, 'epochs': 12, 'optimizer': 'adam'}"
      ]
     },
     "execution_count": 35,
     "metadata": {},
     "output_type": "execute_result"
    }
   ],
   "source": [
    "params"
   ]
  },
  {
   "cell_type": "code",
   "execution_count": 36,
   "id": "69336899",
   "metadata": {},
   "outputs": [
    {
     "data": {
      "text/plain": [
       "'adam'"
      ]
     },
     "execution_count": 36,
     "metadata": {},
     "output_type": "execute_result"
    }
   ],
   "source": [
    "params.pop(\"optimizer\")"
   ]
  },
  {
   "cell_type": "code",
   "execution_count": 37,
   "id": "3da7e26e",
   "metadata": {},
   "outputs": [
    {
     "data": {
      "text/plain": [
       "{'Accuracy': 99, 'epochs': 12}"
      ]
     },
     "execution_count": 37,
     "metadata": {},
     "output_type": "execute_result"
    }
   ],
   "source": [
    "params"
   ]
  },
  {
   "cell_type": "code",
   "execution_count": 38,
   "id": "37826160",
   "metadata": {},
   "outputs": [
    {
     "data": {
      "text/plain": [
       "('epochs', 12)"
      ]
     },
     "execution_count": 38,
     "metadata": {},
     "output_type": "execute_result"
    }
   ],
   "source": [
    "params.popitem() "
   ]
  },
  {
   "cell_type": "code",
   "execution_count": 39,
   "id": "246ca0e9",
   "metadata": {},
   "outputs": [
    {
     "data": {
      "text/plain": [
       "{'Accuracy': 99}"
      ]
     },
     "execution_count": 39,
     "metadata": {},
     "output_type": "execute_result"
    }
   ],
   "source": [
    "params"
   ]
  },
  {
   "cell_type": "code",
   "execution_count": 40,
   "id": "66775a2a",
   "metadata": {},
   "outputs": [
    {
     "data": {
      "text/plain": [
       "{(1, 2, 3): 'This is tuple'}"
      ]
     },
     "execution_count": 40,
     "metadata": {},
     "output_type": "execute_result"
    }
   ],
   "source": [
    "{(1,2,3):\"This is tuple\"}"
   ]
  },
  {
   "cell_type": "code",
   "execution_count": 45,
   "id": "dbddeb85",
   "metadata": {},
   "outputs": [],
   "source": [
    "result = {\n",
    "    \"model_1\": {\"accuracy\":99, \"loss\":0.20},\n",
    "    \"model_2\": {\"accuracy\":95, \"loss\":0.50}\n",
    "}"
   ]
  },
  {
   "cell_type": "code",
   "execution_count": 48,
   "id": "26a61a1d",
   "metadata": {},
   "outputs": [
    {
     "data": {
      "text/plain": [
       "95"
      ]
     },
     "execution_count": 48,
     "metadata": {},
     "output_type": "execute_result"
    }
   ],
   "source": [
    "result[\"model_2\"]['accuracy'] "
   ]
  },
  {
   "cell_type": "code",
   "execution_count": 63,
   "id": "4ce645f2",
   "metadata": {},
   "outputs": [],
   "source": [
    "params = {\"Accuracy\":99, \"epochs\": 12, \"optimizer\": \"adam\"}"
   ]
  },
  {
   "cell_type": "code",
   "execution_count": 64,
   "id": "7a6d3544",
   "metadata": {},
   "outputs": [
    {
     "name": "stdout",
     "output_type": "stream",
     "text": [
      "Removed: optimizer -> adam\n",
      "{'Accuracy': 99, 'epochs': 12}\n",
      "Removed: epochs -> 12\n",
      "{'Accuracy': 99}\n",
      "Removed: Accuracy -> 99\n",
      "{}\n"
     ]
    }
   ],
   "source": [
    "import time\n",
    "while params:\n",
    "    time.sleep(2)\n",
    "    key,value = params.popitem()\n",
    "    print(f\"Removed: {key} -> {value}\")\n",
    "    print(params) \n"
   ]
  },
  {
   "cell_type": "code",
   "execution_count": null,
   "id": "d9302369",
   "metadata": {},
   "outputs": [],
   "source": [
    "names = ['Rahim', \"karim\", \"Sabina\", \"Ayesha\", \"hasan\", \"Monir\", \"shirin\"]\n",
    "markes_list = [85, 72, 80, 90, 76, 88, 69]\n",
    "\n",
    "my_dictionary = dict(zip(names,markes_list))\n",
    "print(my_dictionary)\n",
    "\n",
    "dict_values = my_dictionary.values()\n",
    "sum_values = sum(dict_values)\n",
    "dict_len = dict_values.__len__()\n",
    "print(\"the avarage number is:\",(x/y))"
   ]
  }
 ],
 "metadata": {
  "kernelspec": {
   "display_name": "mljobVenv",
   "language": "python",
   "name": "python3"
  },
  "language_info": {
   "codemirror_mode": {
    "name": "ipython",
    "version": 3
   },
   "file_extension": ".py",
   "mimetype": "text/x-python",
   "name": "python",
   "nbconvert_exporter": "python",
   "pygments_lexer": "ipython3",
   "version": "3.10.18"
  }
 },
 "nbformat": 4,
 "nbformat_minor": 5
}
