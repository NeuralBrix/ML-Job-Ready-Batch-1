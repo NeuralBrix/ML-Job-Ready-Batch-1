{
 "cells": [
  {
   "cell_type": "code",
   "execution_count": null,
   "id": "c5283927",
   "metadata": {},
   "outputs": [],
   "source": [
    "# syntax\n",
    "my_tup = (1,2,3,4,5)"
   ]
  },
  {
   "cell_type": "code",
   "execution_count": 1,
   "id": "6d14d6dc",
   "metadata": {},
   "outputs": [
    {
     "data": {
      "text/plain": [
       "(1, 2, 3, 4)"
      ]
     },
     "execution_count": 1,
     "metadata": {},
     "output_type": "execute_result"
    }
   ],
   "source": [
    "tuple([1,2,3,4])"
   ]
  },
  {
   "cell_type": "code",
   "execution_count": null,
   "id": "14020dc1",
   "metadata": {},
   "outputs": [
    {
     "data": {
      "text/plain": [
       "(1, 2, 3, 4, 5, 6)"
      ]
     },
     "execution_count": 2,
     "metadata": {},
     "output_type": "execute_result"
    }
   ],
   "source": [
    "# concatenate\n",
    "\n",
    "t1 = (1,2,3)  #[0,1,2]\n",
    "t2 = (4,5,6)\n",
    "\n",
    "t1+t2 "
   ]
  },
  {
   "cell_type": "code",
   "execution_count": 3,
   "id": "3f0d9da8",
   "metadata": {},
   "outputs": [
    {
     "data": {
      "text/plain": [
       "'Mehedi Mehedi Mehedi Mehedi Mehedi Mehedi Mehedi Mehedi Mehedi Mehedi '"
      ]
     },
     "execution_count": 3,
     "metadata": {},
     "output_type": "execute_result"
    }
   ],
   "source": [
    "\"Mehedi \"*10"
   ]
  },
  {
   "cell_type": "markdown",
   "id": "8333d5b9",
   "metadata": {},
   "source": [
    "t1*2"
   ]
  },
  {
   "cell_type": "code",
   "execution_count": 4,
   "id": "379eae6f",
   "metadata": {},
   "outputs": [
    {
     "data": {
      "text/plain": [
       "(1, 2, 3, 1, 2, 3)"
      ]
     },
     "execution_count": 4,
     "metadata": {},
     "output_type": "execute_result"
    }
   ],
   "source": [
    "t1*2 "
   ]
  },
  {
   "cell_type": "code",
   "execution_count": null,
   "id": "3e42d725",
   "metadata": {},
   "outputs": [
    {
     "data": {
      "text/plain": [
       "2"
      ]
     },
     "execution_count": 6,
     "metadata": {},
     "output_type": "execute_result"
    }
   ],
   "source": [
    "#slice\n",
    "t1[1]"
   ]
  },
  {
   "cell_type": "code",
   "execution_count": 7,
   "id": "d3607e60",
   "metadata": {},
   "outputs": [
    {
     "data": {
      "text/plain": [
       "1"
      ]
     },
     "execution_count": 7,
     "metadata": {},
     "output_type": "execute_result"
    }
   ],
   "source": [
    "t1[0] "
   ]
  },
  {
   "cell_type": "code",
   "execution_count": 9,
   "id": "5bf60edd",
   "metadata": {},
   "outputs": [
    {
     "data": {
      "text/plain": [
       "(2, 3)"
      ]
     },
     "execution_count": 9,
     "metadata": {},
     "output_type": "execute_result"
    }
   ],
   "source": [
    "t1[1:] "
   ]
  },
  {
   "cell_type": "code",
   "execution_count": 10,
   "id": "b6e313e6",
   "metadata": {},
   "outputs": [
    {
     "data": {
      "text/plain": [
       "True"
      ]
     },
     "execution_count": 10,
     "metadata": {},
     "output_type": "execute_result"
    }
   ],
   "source": [
    "2 in t1 "
   ]
  },
  {
   "cell_type": "code",
   "execution_count": 11,
   "id": "8efdf61c",
   "metadata": {},
   "outputs": [
    {
     "data": {
      "text/plain": [
       "False"
      ]
     },
     "execution_count": 11,
     "metadata": {},
     "output_type": "execute_result"
    }
   ],
   "source": [
    "5 in t1 "
   ]
  },
  {
   "cell_type": "code",
   "execution_count": 12,
   "id": "81ba24c2",
   "metadata": {},
   "outputs": [
    {
     "data": {
      "text/plain": [
       "3"
      ]
     },
     "execution_count": 12,
     "metadata": {},
     "output_type": "execute_result"
    }
   ],
   "source": [
    "len(t1) "
   ]
  },
  {
   "cell_type": "code",
   "execution_count": null,
   "id": "a7fac479",
   "metadata": {},
   "outputs": [],
   "source": [
    "a = 10\n",
    "b = 20\n",
    "c = 30\n"
   ]
  },
  {
   "cell_type": "code",
   "execution_count": null,
   "id": "adf16461",
   "metadata": {},
   "outputs": [],
   "source": [
    "x = 10, 20, 30 "
   ]
  },
  {
   "cell_type": "code",
   "execution_count": 14,
   "id": "fe24e646",
   "metadata": {},
   "outputs": [
    {
     "data": {
      "text/plain": [
       "(10, 20, 30)"
      ]
     },
     "execution_count": 14,
     "metadata": {},
     "output_type": "execute_result"
    }
   ],
   "source": [
    "x"
   ]
  },
  {
   "cell_type": "code",
   "execution_count": 15,
   "id": "88c5fc62",
   "metadata": {},
   "outputs": [],
   "source": [
    "q, w, e = (10, 20, 30)"
   ]
  },
  {
   "cell_type": "code",
   "execution_count": 16,
   "id": "13b0841c",
   "metadata": {},
   "outputs": [
    {
     "data": {
      "text/plain": [
       "10"
      ]
     },
     "execution_count": 16,
     "metadata": {},
     "output_type": "execute_result"
    }
   ],
   "source": [
    "q"
   ]
  },
  {
   "cell_type": "code",
   "execution_count": 17,
   "id": "531ce9b8",
   "metadata": {},
   "outputs": [
    {
     "data": {
      "text/plain": [
       "20"
      ]
     },
     "execution_count": 17,
     "metadata": {},
     "output_type": "execute_result"
    }
   ],
   "source": [
    "w "
   ]
  },
  {
   "cell_type": "code",
   "execution_count": 18,
   "id": "6cdad65c",
   "metadata": {},
   "outputs": [
    {
     "data": {
      "text/plain": [
       "30"
      ]
     },
     "execution_count": 18,
     "metadata": {},
     "output_type": "execute_result"
    }
   ],
   "source": [
    "e "
   ]
  }
 ],
 "metadata": {
  "kernelspec": {
   "display_name": "mljobVenv",
   "language": "python",
   "name": "python3"
  },
  "language_info": {
   "codemirror_mode": {
    "name": "ipython",
    "version": 3
   },
   "file_extension": ".py",
   "mimetype": "text/x-python",
   "name": "python",
   "nbconvert_exporter": "python",
   "pygments_lexer": "ipython3",
   "version": "3.10.18"
  }
 },
 "nbformat": 4,
 "nbformat_minor": 5
}
