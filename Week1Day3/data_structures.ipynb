{
 "cells": [
  {
   "cell_type": "code",
   "execution_count": null,
   "id": "f0738f19",
   "metadata": {},
   "outputs": [],
   "source": [
    "## List \n",
    "l = list()\n",
    "list_1 = [1, 2, 3, 4, 5] #index 0 to 4 [0,1,2,3,4]\n"
   ]
  },
  {
   "cell_type": "code",
   "execution_count": null,
   "id": "8d5db316",
   "metadata": {},
   "outputs": [
    {
     "name": "stdout",
     "output_type": "stream",
     "text": [
      "Sabbir\n"
     ]
    }
   ],
   "source": [
    "list_1 =[\"Mehedi\", \"Sakib\", \"Rifat\", \"Shanto\", \"Sabbir\"] #index 0 to 4 [0,1,2,3,4]\n",
    "\n",
    "#accessing elements\n",
    "print(list_1[4])  #list_name[index]"
   ]
  },
  {
   "cell_type": "code",
   "execution_count": 9,
   "id": "46093362",
   "metadata": {},
   "outputs": [
    {
     "name": "stdout",
     "output_type": "stream",
     "text": [
      "Mehedi\n"
     ]
    }
   ],
   "source": [
    "#negative indexing\n",
    "print(list_1[-5])  #last element"
   ]
  },
  {
   "cell_type": "code",
   "execution_count": 10,
   "id": "d120d043",
   "metadata": {},
   "outputs": [],
   "source": [
    "#modifying elements \n",
    "list_1[0] = \"Apple\""
   ]
  },
  {
   "cell_type": "code",
   "execution_count": 11,
   "id": "1660f8fe",
   "metadata": {},
   "outputs": [
    {
     "data": {
      "text/plain": [
       "['Apple', 'Sakib', 'Rifat', 'Shanto', 'Sabbir']"
      ]
     },
     "execution_count": 11,
     "metadata": {},
     "output_type": "execute_result"
    }
   ],
   "source": [
    "list_1 "
   ]
  },
  {
   "cell_type": "code",
   "execution_count": 12,
   "id": "e2c7dfab",
   "metadata": {},
   "outputs": [],
   "source": [
    "list_1.append(\"komola\")  #adding new element at the end"
   ]
  },
  {
   "cell_type": "code",
   "execution_count": 13,
   "id": "5bd3ec3c",
   "metadata": {},
   "outputs": [
    {
     "data": {
      "text/plain": [
       "['Apple', 'Sakib', 'Rifat', 'Shanto', 'Sabbir', 'komola']"
      ]
     },
     "execution_count": 13,
     "metadata": {},
     "output_type": "execute_result"
    }
   ],
   "source": [
    "list_1 "
   ]
  },
  {
   "cell_type": "code",
   "execution_count": null,
   "id": "d9b496dd",
   "metadata": {},
   "outputs": [],
   "source": [
    "#insert new element at specific index\n",
    "\n",
    "list_1.insert(2, \"Rafiq\")  #insert(index, value)\n"
   ]
  },
  {
   "cell_type": "code",
   "execution_count": 16,
   "id": "ff39bad9",
   "metadata": {},
   "outputs": [],
   "source": [
    "list_1.insert(3,\"Karim\") "
   ]
  },
  {
   "cell_type": "code",
   "execution_count": 18,
   "id": "6c2683a6",
   "metadata": {},
   "outputs": [
    {
     "data": {
      "text/plain": [
       "['Apple', 'Sakib', 'Rafiq', 'Karim', 'Rifat', 'Shanto', 'Sabbir', 'komola']"
      ]
     },
     "execution_count": 18,
     "metadata": {},
     "output_type": "execute_result"
    }
   ],
   "source": [
    "list_1 "
   ]
  },
  {
   "cell_type": "code",
   "execution_count": 19,
   "id": "2997b13f",
   "metadata": {},
   "outputs": [],
   "source": [
    "list_1.insert(3,\"Rahim\") "
   ]
  },
  {
   "cell_type": "code",
   "execution_count": 20,
   "id": "4cfb9955",
   "metadata": {},
   "outputs": [
    {
     "data": {
      "text/plain": [
       "['Apple',\n",
       " 'Sakib',\n",
       " 'Rafiq',\n",
       " 'Rahim',\n",
       " 'Karim',\n",
       " 'Rifat',\n",
       " 'Shanto',\n",
       " 'Sabbir',\n",
       " 'komola']"
      ]
     },
     "execution_count": 20,
     "metadata": {},
     "output_type": "execute_result"
    }
   ],
   "source": [
    "list_1"
   ]
  },
  {
   "cell_type": "code",
   "execution_count": null,
   "id": "02b4e3d1",
   "metadata": {},
   "outputs": [],
   "source": [
    "#del list_name[index]  #delete element at specific index\n",
    "del list_1[2]  #delete element at index 2\n"
   ]
  },
  {
   "cell_type": "code",
   "execution_count": 22,
   "id": "97a97a25",
   "metadata": {},
   "outputs": [
    {
     "data": {
      "text/plain": [
       "['Apple', 'Sakib', 'Rahim', 'Karim', 'Rifat', 'Shanto', 'Sabbir', 'komola']"
      ]
     },
     "execution_count": 22,
     "metadata": {},
     "output_type": "execute_result"
    }
   ],
   "source": [
    "list_1"
   ]
  },
  {
   "cell_type": "code",
   "execution_count": 23,
   "id": "6926f3b1",
   "metadata": {},
   "outputs": [
    {
     "data": {
      "text/plain": [
       "'komola'"
      ]
     },
     "execution_count": 23,
     "metadata": {},
     "output_type": "execute_result"
    }
   ],
   "source": [
    "list_1.pop()  #remove last element"
   ]
  },
  {
   "cell_type": "code",
   "execution_count": 24,
   "id": "12f2c814",
   "metadata": {},
   "outputs": [
    {
     "data": {
      "text/plain": [
       "['Apple', 'Sakib', 'Rahim', 'Karim', 'Rifat', 'Shanto', 'Sabbir']"
      ]
     },
     "execution_count": 24,
     "metadata": {},
     "output_type": "execute_result"
    }
   ],
   "source": [
    "list_1"
   ]
  },
  {
   "cell_type": "code",
   "execution_count": 25,
   "id": "2539f267",
   "metadata": {},
   "outputs": [],
   "source": [
    "name = list_1.pop()"
   ]
  },
  {
   "cell_type": "code",
   "execution_count": 26,
   "id": "b6f6b2be",
   "metadata": {},
   "outputs": [
    {
     "data": {
      "text/plain": [
       "'Sabbir'"
      ]
     },
     "execution_count": 26,
     "metadata": {},
     "output_type": "execute_result"
    }
   ],
   "source": [
    "name"
   ]
  },
  {
   "cell_type": "code",
   "execution_count": 27,
   "id": "f2a5ce2e",
   "metadata": {},
   "outputs": [
    {
     "data": {
      "text/plain": [
       "['Apple', 'Sakib', 'Rahim', 'Karim', 'Rifat', 'Shanto']"
      ]
     },
     "execution_count": 27,
     "metadata": {},
     "output_type": "execute_result"
    }
   ],
   "source": [
    "list_1"
   ]
  },
  {
   "cell_type": "code",
   "execution_count": 28,
   "id": "4c7de035",
   "metadata": {},
   "outputs": [
    {
     "data": {
      "text/plain": [
       "'Sabbir'"
      ]
     },
     "execution_count": 28,
     "metadata": {},
     "output_type": "execute_result"
    }
   ],
   "source": [
    "name"
   ]
  },
  {
   "cell_type": "code",
   "execution_count": 31,
   "id": "162d5af1",
   "metadata": {},
   "outputs": [
    {
     "ename": "ValueError",
     "evalue": "list.remove(x): x not in list",
     "output_type": "error",
     "traceback": [
      "\u001b[1;31m---------------------------------------------------------------------------\u001b[0m",
      "\u001b[1;31mValueError\u001b[0m                                Traceback (most recent call last)",
      "Cell \u001b[1;32mIn[31], line 2\u001b[0m\n\u001b[0;32m      1\u001b[0m \u001b[38;5;66;03m#remove element by value\u001b[39;00m\n\u001b[1;32m----> 2\u001b[0m \u001b[43mlist_1\u001b[49m\u001b[38;5;241;43m.\u001b[39;49m\u001b[43mremove\u001b[49m\u001b[43m(\u001b[49m\u001b[38;5;124;43m\"\u001b[39;49m\u001b[38;5;124;43mSaksdafib\u001b[39;49m\u001b[38;5;124;43m\"\u001b[39;49m\u001b[43m)\u001b[49m  \u001b[38;5;66;03m#remove first occurrence of value\u001b[39;00m\n",
      "\u001b[1;31mValueError\u001b[0m: list.remove(x): x not in list"
     ]
    }
   ],
   "source": [
    "#remove element by value\n",
    "list_1.remove(\"Saksdafib\")  #remove first occurrence of value"
   ]
  },
  {
   "cell_type": "code",
   "execution_count": 30,
   "id": "32ff0e2f",
   "metadata": {},
   "outputs": [
    {
     "data": {
      "text/plain": [
       "['Apple', 'Rahim', 'Karim', 'Rifat', 'Shanto']"
      ]
     },
     "execution_count": 30,
     "metadata": {},
     "output_type": "execute_result"
    }
   ],
   "source": [
    "list_1"
   ]
  },
  {
   "cell_type": "code",
   "execution_count": null,
   "id": "1467d1e2",
   "metadata": {},
   "outputs": [
    {
     "ename": "IndexError",
     "evalue": "list assignment index out of range",
     "output_type": "error",
     "traceback": [
      "\u001b[1;31m---------------------------------------------------------------------------\u001b[0m",
      "\u001b[1;31mIndexError\u001b[0m                                Traceback (most recent call last)",
      "Cell \u001b[1;32mIn[32], line 1\u001b[0m\n\u001b[1;32m----> 1\u001b[0m \u001b[38;5;28;01mdel\u001b[39;00m list_1[\u001b[38;5;241m20\u001b[39m]  \u001b[38;5;66;03m#delete element at index 2\u001b[39;00m\n",
      "\u001b[1;31mIndexError\u001b[0m: list assignment index out of range"
     ]
    }
   ],
   "source": []
  },
  {
   "cell_type": "code",
   "execution_count": 38,
   "id": "aca22bd4",
   "metadata": {},
   "outputs": [],
   "source": [
    "## pop explaination \n",
    "#pop = \"LIFO\" (Last In First Out)\n",
    "\n",
    "list_1 = [] #index 0 to 4 [0,1,2,3,4]\n"
   ]
  },
  {
   "cell_type": "code",
   "execution_count": 39,
   "id": "6fd8be41",
   "metadata": {},
   "outputs": [
    {
     "ename": "IndexError",
     "evalue": "pop from empty list",
     "output_type": "error",
     "traceback": [
      "\u001b[1;31m---------------------------------------------------------------------------\u001b[0m",
      "\u001b[1;31mIndexError\u001b[0m                                Traceback (most recent call last)",
      "Cell \u001b[1;32mIn[39], line 1\u001b[0m\n\u001b[1;32m----> 1\u001b[0m last_num \u001b[38;5;241m=\u001b[39m \u001b[43mlist_1\u001b[49m\u001b[38;5;241;43m.\u001b[39;49m\u001b[43mpop\u001b[49m\u001b[43m(\u001b[49m\u001b[43m)\u001b[49m\n",
      "\u001b[1;31mIndexError\u001b[0m: pop from empty list"
     ]
    }
   ],
   "source": [
    "last_num = list_1.pop()"
   ]
  },
  {
   "cell_type": "code",
   "execution_count": 37,
   "id": "b4476e50",
   "metadata": {},
   "outputs": [
    {
     "data": {
      "text/plain": [
       "5"
      ]
     },
     "execution_count": 37,
     "metadata": {},
     "output_type": "execute_result"
    }
   ],
   "source": [
    "last_num"
   ]
  },
  {
   "cell_type": "code",
   "execution_count": null,
   "id": "410a00f8",
   "metadata": {},
   "outputs": [],
   "source": []
  },
  {
   "cell_type": "code",
   "execution_count": null,
   "id": "21e1a649",
   "metadata": {},
   "outputs": [],
   "source": []
  }
 ],
 "metadata": {
  "kernelspec": {
   "display_name": "mljobVenv",
   "language": "python",
   "name": "python3"
  },
  "language_info": {
   "codemirror_mode": {
    "name": "ipython",
    "version": 3
   },
   "file_extension": ".py",
   "mimetype": "text/x-python",
   "name": "python",
   "nbconvert_exporter": "python",
   "pygments_lexer": "ipython3",
   "version": "3.10.18"
  }
 },
 "nbformat": 4,
 "nbformat_minor": 5
}
