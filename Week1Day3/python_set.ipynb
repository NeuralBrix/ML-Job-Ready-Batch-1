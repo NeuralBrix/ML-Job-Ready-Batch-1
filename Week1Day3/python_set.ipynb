{
 "cells": [
  {
   "cell_type": "code",
   "execution_count": null,
   "id": "34b0b22f",
   "metadata": {},
   "outputs": [],
   "source": [
    "#syntax \n",
    "#my_set = {} \n",
    "#my_set = set()\n",
    "\n",
    "# unique\n",
    "# unordered : \n",
    "# mutable "
   ]
  },
  {
   "cell_type": "code",
   "execution_count": 1,
   "id": "4b0c4a35",
   "metadata": {},
   "outputs": [
    {
     "name": "stdout",
     "output_type": "stream",
     "text": [
      "{'lychee', 'mango', 'banana', 'Komola', 'apple'}\n"
     ]
    }
   ],
   "source": [
    "fruits = {\"apple\", \"Komola\", \"banana\", \"lychee\",\"mango\"}\n",
    "print(fruits) "
   ]
  },
  {
   "cell_type": "code",
   "execution_count": 3,
   "id": "581fbcf9",
   "metadata": {},
   "outputs": [],
   "source": [
    "my_list = [1,2,3,3,4,4,5,6,7,8,9,10]\n",
    "\n",
    "my_unique_list = set(my_list) "
   ]
  },
  {
   "cell_type": "code",
   "execution_count": 4,
   "id": "e0ab4d17",
   "metadata": {},
   "outputs": [
    {
     "data": {
      "text/plain": [
       "{1, 2, 3, 4, 5, 6, 7, 8, 9, 10}"
      ]
     },
     "execution_count": 4,
     "metadata": {},
     "output_type": "execute_result"
    }
   ],
   "source": [
    "my_unique_list"
   ]
  },
  {
   "cell_type": "code",
   "execution_count": 5,
   "id": "fc0b5e58",
   "metadata": {},
   "outputs": [],
   "source": [
    "#Basic operation\n",
    "\n",
    "fruits.add(\"dragon\")"
   ]
  },
  {
   "cell_type": "code",
   "execution_count": 6,
   "id": "5b2d57f8",
   "metadata": {},
   "outputs": [
    {
     "data": {
      "text/plain": [
       "{'Komola', 'apple', 'banana', 'dragon', 'lychee', 'mango'}"
      ]
     },
     "execution_count": 6,
     "metadata": {},
     "output_type": "execute_result"
    }
   ],
   "source": [
    "fruits"
   ]
  },
  {
   "cell_type": "code",
   "execution_count": 7,
   "id": "a6d32862",
   "metadata": {},
   "outputs": [],
   "source": [
    "fruits.remove(\"dragon\") "
   ]
  },
  {
   "cell_type": "code",
   "execution_count": 8,
   "id": "a6707cf4",
   "metadata": {},
   "outputs": [
    {
     "data": {
      "text/plain": [
       "{'Komola', 'apple', 'banana', 'lychee', 'mango'}"
      ]
     },
     "execution_count": 8,
     "metadata": {},
     "output_type": "execute_result"
    }
   ],
   "source": [
    "fruits "
   ]
  },
  {
   "cell_type": "code",
   "execution_count": 9,
   "id": "93fbcd74",
   "metadata": {},
   "outputs": [
    {
     "ename": "KeyError",
     "evalue": "'dragon'",
     "output_type": "error",
     "traceback": [
      "\u001b[1;31m---------------------------------------------------------------------------\u001b[0m",
      "\u001b[1;31mKeyError\u001b[0m                                  Traceback (most recent call last)",
      "Cell \u001b[1;32mIn[9], line 1\u001b[0m\n\u001b[1;32m----> 1\u001b[0m \u001b[43mfruits\u001b[49m\u001b[38;5;241;43m.\u001b[39;49m\u001b[43mremove\u001b[49m\u001b[43m(\u001b[49m\u001b[38;5;124;43m\"\u001b[39;49m\u001b[38;5;124;43mdragon\u001b[39;49m\u001b[38;5;124;43m\"\u001b[39;49m\u001b[43m)\u001b[49m\n",
      "\u001b[1;31mKeyError\u001b[0m: 'dragon'"
     ]
    }
   ],
   "source": [
    "fruits.remove(\"dragon\")"
   ]
  },
  {
   "cell_type": "code",
   "execution_count": 12,
   "id": "9ba3134b",
   "metadata": {},
   "outputs": [],
   "source": [
    "fruits.discard(\"dragon\")  "
   ]
  },
  {
   "cell_type": "code",
   "execution_count": 13,
   "id": "f4443e19",
   "metadata": {},
   "outputs": [
    {
     "data": {
      "text/plain": [
       "'lychee'"
      ]
     },
     "execution_count": 13,
     "metadata": {},
     "output_type": "execute_result"
    }
   ],
   "source": [
    "fruits.pop() "
   ]
  },
  {
   "cell_type": "code",
   "execution_count": 14,
   "id": "f64ac899",
   "metadata": {},
   "outputs": [
    {
     "data": {
      "text/plain": [
       "{'Komola', 'apple', 'banana', 'mango'}"
      ]
     },
     "execution_count": 14,
     "metadata": {},
     "output_type": "execute_result"
    }
   ],
   "source": [
    "fruits "
   ]
  },
  {
   "cell_type": "code",
   "execution_count": 15,
   "id": "2a0ddf36",
   "metadata": {},
   "outputs": [
    {
     "data": {
      "text/plain": [
       "'mango'"
      ]
     },
     "execution_count": 15,
     "metadata": {},
     "output_type": "execute_result"
    }
   ],
   "source": [
    "fruits.pop() "
   ]
  },
  {
   "cell_type": "code",
   "execution_count": 16,
   "id": "bfd04db1",
   "metadata": {},
   "outputs": [
    {
     "data": {
      "text/plain": [
       "{'Komola', 'apple', 'banana'}"
      ]
     },
     "execution_count": 16,
     "metadata": {},
     "output_type": "execute_result"
    }
   ],
   "source": [
    "fruits"
   ]
  },
  {
   "cell_type": "code",
   "execution_count": 17,
   "id": "f6d6772b",
   "metadata": {},
   "outputs": [],
   "source": [
    "fruits.clear() "
   ]
  },
  {
   "cell_type": "code",
   "execution_count": 18,
   "id": "1a7962d3",
   "metadata": {},
   "outputs": [
    {
     "data": {
      "text/plain": [
       "set()"
      ]
     },
     "execution_count": 18,
     "metadata": {},
     "output_type": "execute_result"
    }
   ],
   "source": [
    "fruits "
   ]
  },
  {
   "cell_type": "code",
   "execution_count": 19,
   "id": "e4f1efc9",
   "metadata": {},
   "outputs": [],
   "source": [
    "# Set Operation\n",
    "\n",
    "set_a = {1, 2, 3, 4}\n",
    "set_b = {3, 4, 5, 6}\n"
   ]
  },
  {
   "cell_type": "code",
   "execution_count": null,
   "id": "f34eab0b",
   "metadata": {},
   "outputs": [
    {
     "data": {
      "text/plain": [
       "{1, 2, 3, 4, 5, 6}"
      ]
     },
     "execution_count": 20,
     "metadata": {},
     "output_type": "execute_result"
    }
   ],
   "source": [
    "set_a | set_b"
   ]
  },
  {
   "cell_type": "code",
   "execution_count": 21,
   "id": "b7a00845",
   "metadata": {},
   "outputs": [
    {
     "data": {
      "text/plain": [
       "{1, 2, 3, 4, 5, 6}"
      ]
     },
     "execution_count": 21,
     "metadata": {},
     "output_type": "execute_result"
    }
   ],
   "source": [
    "set_a.union(set_b) "
   ]
  },
  {
   "cell_type": "code",
   "execution_count": 22,
   "id": "29b755cf",
   "metadata": {},
   "outputs": [
    {
     "data": {
      "text/plain": [
       "{3, 4}"
      ]
     },
     "execution_count": 22,
     "metadata": {},
     "output_type": "execute_result"
    }
   ],
   "source": [
    "set_a & set_b"
   ]
  },
  {
   "cell_type": "code",
   "execution_count": 23,
   "id": "006a20b1",
   "metadata": {},
   "outputs": [
    {
     "data": {
      "text/plain": [
       "{3, 4}"
      ]
     },
     "execution_count": 23,
     "metadata": {},
     "output_type": "execute_result"
    }
   ],
   "source": [
    "set_a.intersection(set_b)"
   ]
  },
  {
   "cell_type": "code",
   "execution_count": null,
   "id": "33a16e07",
   "metadata": {},
   "outputs": [
    {
     "data": {
      "text/plain": [
       "{5, 6}"
      ]
     },
     "execution_count": 25,
     "metadata": {},
     "output_type": "execute_result"
    }
   ],
   "source": [
    "set_b - set_a "
   ]
  },
  {
   "cell_type": "code",
   "execution_count": 26,
   "id": "4d7a565e",
   "metadata": {},
   "outputs": [
    {
     "data": {
      "text/plain": [
       "{1, 2}"
      ]
     },
     "execution_count": 26,
     "metadata": {},
     "output_type": "execute_result"
    }
   ],
   "source": [
    "set_a - set_b  "
   ]
  },
  {
   "cell_type": "code",
   "execution_count": null,
   "id": "42acf8a3",
   "metadata": {},
   "outputs": [],
   "source": [
    "#symmetric difference\n",
    "\n"
   ]
  },
  {
   "cell_type": "code",
   "execution_count": 27,
   "id": "79f6cb7a",
   "metadata": {},
   "outputs": [
    {
     "data": {
      "text/plain": [
       "{1, 2, 5, 6}"
      ]
     },
     "execution_count": 27,
     "metadata": {},
     "output_type": "execute_result"
    }
   ],
   "source": [
    "set_a ^ set_b   # ^ caret "
   ]
  }
 ],
 "metadata": {
  "kernelspec": {
   "display_name": "mljobVenv",
   "language": "python",
   "name": "python3"
  },
  "language_info": {
   "codemirror_mode": {
    "name": "ipython",
    "version": 3
   },
   "file_extension": ".py",
   "mimetype": "text/x-python",
   "name": "python",
   "nbconvert_exporter": "python",
   "pygments_lexer": "ipython3",
   "version": "3.10.18"
  }
 },
 "nbformat": 4,
 "nbformat_minor": 5
}
