{
 "cells": [
  {
   "cell_type": "code",
   "execution_count": 3,
   "id": "2dac0a09",
   "metadata": {},
   "outputs": [
    {
     "name": "stdout",
     "output_type": "stream",
     "text": [
      "mehedi\n",
      "mehedi\n",
      "mehedi\n",
      "mehedi\n",
      "mehedi\n",
      "mehedi\n",
      "mehedi\n",
      "mehedi\n",
      "mehedi\n",
      "mehedi\n"
     ]
    }
   ],
   "source": [
    "for i in range(10):\n",
    "    print(\"mehedi\")"
   ]
  },
  {
   "cell_type": "code",
   "execution_count": null,
   "id": "91ac5dcc",
   "metadata": {},
   "outputs": [
    {
     "name": "stdout",
     "output_type": "stream",
     "text": [
      "True\n"
     ]
    }
   ],
   "source": [
    "#syntax of while loop\n",
    "# while condition:\n",
    "    # code to execute\n"
   ]
  },
  {
   "cell_type": "code",
   "execution_count": 5,
   "id": "403cb998",
   "metadata": {},
   "outputs": [
    {
     "name": "stdout",
     "output_type": "stream",
     "text": [
      "mehedi\n",
      "mehedi\n",
      "mehedi\n",
      "mehedi\n",
      "mehedi\n",
      "mehedi\n",
      "mehedi\n",
      "mehedi\n",
      "mehedi\n",
      "mehedi\n",
      "mehedi\n",
      "mehedi\n",
      "mehedi\n",
      "mehedi\n",
      "mehedi\n",
      "mehedi\n",
      "mehedi\n",
      "mehedi\n",
      "mehedi\n",
      "mehedi\n",
      "mehedi\n",
      "mehedi\n",
      "mehedi\n",
      "mehedi\n",
      "mehedi\n",
      "mehedi\n",
      "mehedi\n",
      "mehedi\n",
      "mehedi\n",
      "mehedi\n",
      "mehedi\n",
      "mehedi\n",
      "mehedi\n",
      "mehedi\n",
      "mehedi\n",
      "mehedi\n",
      "mehedi\n",
      "mehedi\n",
      "mehedi\n",
      "mehedi\n",
      "mehedi\n",
      "mehedi\n",
      "mehedi\n",
      "mehedi\n",
      "mehedi\n",
      "mehedi\n",
      "mehedi\n",
      "mehedi\n",
      "mehedi\n"
     ]
    },
    {
     "ename": "KeyboardInterrupt",
     "evalue": "",
     "output_type": "error",
     "traceback": [
      "\u001b[1;31m---------------------------------------------------------------------------\u001b[0m",
      "\u001b[1;31mKeyboardInterrupt\u001b[0m                         Traceback (most recent call last)",
      "Cell \u001b[1;32mIn[5], line 4\u001b[0m\n\u001b[0;32m      2\u001b[0m \u001b[38;5;28;01mwhile\u001b[39;00m \u001b[38;5;28;01mTrue\u001b[39;00m:\n\u001b[0;32m      3\u001b[0m     \u001b[38;5;28mprint\u001b[39m(\u001b[38;5;124m\"\u001b[39m\u001b[38;5;124mmehedi\u001b[39m\u001b[38;5;124m\"\u001b[39m)\n\u001b[1;32m----> 4\u001b[0m     \u001b[43mtime\u001b[49m\u001b[38;5;241;43m.\u001b[39;49m\u001b[43msleep\u001b[49m\u001b[43m(\u001b[49m\u001b[38;5;241;43m1\u001b[39;49m\u001b[43m)\u001b[49m \n",
      "\u001b[1;31mKeyboardInterrupt\u001b[0m: "
     ]
    }
   ],
   "source": [
    "import time \n",
    "while True:\n",
    "    print(\"mehedi\")\n",
    "    time.sleep(1) "
   ]
  },
  {
   "cell_type": "code",
   "execution_count": null,
   "id": "e2083dd2",
   "metadata": {},
   "outputs": [],
   "source": []
  },
  {
   "cell_type": "code",
   "execution_count": null,
   "id": "88346166",
   "metadata": {},
   "outputs": [],
   "source": []
  }
 ],
 "metadata": {
  "kernelspec": {
   "display_name": "mljobVenv",
   "language": "python",
   "name": "python3"
  },
  "language_info": {
   "codemirror_mode": {
    "name": "ipython",
    "version": 3
   },
   "file_extension": ".py",
   "mimetype": "text/x-python",
   "name": "python",
   "nbconvert_exporter": "python",
   "pygments_lexer": "ipython3",
   "version": "3.10.18"
  }
 },
 "nbformat": 4,
 "nbformat_minor": 5
}
