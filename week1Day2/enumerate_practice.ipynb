{
 "cells": [
  {
   "cell_type": "code",
   "execution_count": 1,
   "id": "9bad55d0",
   "metadata": {},
   "outputs": [
    {
     "name": "stdout",
     "output_type": "stream",
     "text": [
      "Hello, World!\n"
     ]
    }
   ],
   "source": [
    "print(\"Hello, World!\")"
   ]
  },
  {
   "cell_type": "code",
   "execution_count": 4,
   "id": "4904de42",
   "metadata": {},
   "outputs": [
    {
     "name": "stdout",
     "output_type": "stream",
     "text": [
      "Class roll: 1, Value: Mehedi\n",
      "Class roll: 2, Value: Sakib\n",
      "Class roll: 3, Value: Rifat\n",
      "Class roll: 4, Value: Shanto\n",
      "Class roll: 5, Value: Sabbir\n"
     ]
    }
   ],
   "source": [
    "list_1 = [\"Mehedi\", \"Sakib\", \"Rifat\", \"Shanto\", \"Sabbir\"] # index: [0, 1, 2, 3, 4]\n",
    "\n",
    "#syntax:\n",
    "# for index, value in enumerate(iterable, start=0):\n",
    "\n",
    "for index, value in enumerate(list_1, start=1):\n",
    "    print(f\"Class roll: {index}, Value: {value}\")\n"
   ]
  },
  {
   "cell_type": "code",
   "execution_count": 10,
   "id": "71ec4152",
   "metadata": {},
   "outputs": [
    {
     "name": "stdout",
     "output_type": "stream",
     "text": [
      "7\n"
     ]
    }
   ],
   "source": [
    "x = 5 \n",
    "x += 2\n",
    "print(x) "
   ]
  },
  {
   "cell_type": "code",
   "execution_count": 12,
   "id": "bfc54aa7",
   "metadata": {},
   "outputs": [
    {
     "name": "stdout",
     "output_type": "stream",
     "text": [
      "4\n"
     ]
    }
   ],
   "source": [
    "x = 5 \n",
    "x -= 1 \n",
    "print(x) "
   ]
  },
  {
   "cell_type": "code",
   "execution_count": null,
   "id": "46c06889",
   "metadata": {},
   "outputs": [],
   "source": []
  },
  {
   "cell_type": "code",
   "execution_count": null,
   "id": "1cefdf89",
   "metadata": {},
   "outputs": [],
   "source": []
  },
  {
   "cell_type": "code",
   "execution_count": null,
   "id": "b2d17c46",
   "metadata": {},
   "outputs": [],
   "source": []
  }
 ],
 "metadata": {
  "kernelspec": {
   "display_name": "mljobVenv",
   "language": "python",
   "name": "python3"
  },
  "language_info": {
   "codemirror_mode": {
    "name": "ipython",
    "version": 3
   },
   "file_extension": ".py",
   "mimetype": "text/x-python",
   "name": "python",
   "nbconvert_exporter": "python",
   "pygments_lexer": "ipython3",
   "version": "3.10.18"
  }
 },
 "nbformat": 4,
 "nbformat_minor": 5
}
