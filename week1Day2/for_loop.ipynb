{
 "cells": [
  {
   "cell_type": "code",
   "execution_count": null,
   "id": "7a560057",
   "metadata": {},
   "outputs": [],
   "source": [
    "#Basic syntax of for loop\n",
    "\n",
    "#for variable in sequence:\n",
    "    #code block(loop body)"
   ]
  },
  {
   "cell_type": "code",
   "execution_count": null,
   "id": "1ad95ff2",
   "metadata": {},
   "outputs": [
    {
     "name": "stdout",
     "output_type": "stream",
     "text": [
      "Mehedi   \n",
      "Hasan\n",
      "Sabbir\n",
      "Samiul\n",
      "Shamim\n"
     ]
    }
   ],
   "source": [
    "student_names = [\"mehedi\", \"hasan\", \"sabbir\", \"samiul\", \"shamim\"]\n",
    "for name in student_names:\n",
    "    print(name.title())"
   ]
  },
  {
   "cell_type": "code",
   "execution_count": 24,
   "id": "0ce8b57d",
   "metadata": {},
   "outputs": [
    {
     "data": {
      "text/plain": [
       "[4, 6, 8, 10]"
      ]
     },
     "execution_count": 24,
     "metadata": {},
     "output_type": "execute_result"
    }
   ],
   "source": [
    "#range()\n",
    "\n",
    "#syntax of range function\n",
    "#range(start, stop, step)\n",
    "list(range(4, 11, 2))"
   ]
  },
  {
   "cell_type": "code",
   "execution_count": 7,
   "id": "eeef920b",
   "metadata": {},
   "outputs": [
    {
     "data": {
      "text/plain": [
       "[0, 1, 2, 3, 4]"
      ]
     },
     "execution_count": 7,
     "metadata": {},
     "output_type": "execute_result"
    }
   ],
   "source": [
    "list(range(5)) "
   ]
  },
  {
   "cell_type": "code",
   "execution_count": 28,
   "id": "b46bc751",
   "metadata": {},
   "outputs": [
    {
     "name": "stdout",
     "output_type": "stream",
     "text": [
      "99\n",
      "101\n",
      "103\n",
      "105\n",
      "107\n",
      "109\n",
      "111\n",
      "113\n",
      "115\n",
      "117\n",
      "119\n",
      "121\n",
      "123\n",
      "125\n",
      "127\n",
      "129\n",
      "131\n",
      "133\n",
      "135\n",
      "137\n",
      "139\n",
      "141\n",
      "143\n",
      "145\n",
      "147\n",
      "149\n",
      "151\n",
      "153\n",
      "155\n",
      "157\n",
      "159\n",
      "161\n",
      "163\n",
      "165\n",
      "167\n",
      "169\n",
      "171\n",
      "173\n",
      "175\n",
      "177\n",
      "179\n",
      "181\n",
      "183\n",
      "185\n",
      "187\n",
      "189\n",
      "191\n",
      "193\n",
      "195\n",
      "197\n",
      "199\n"
     ]
    }
   ],
   "source": [
    "for i in range(99,201,2):\n",
    "    print(i)"
   ]
  }
 ],
 "metadata": {
  "kernelspec": {
   "display_name": "mljobVenv",
   "language": "python",
   "name": "python3"
  },
  "language_info": {
   "codemirror_mode": {
    "name": "ipython",
    "version": 3
   },
   "file_extension": ".py",
   "mimetype": "text/x-python",
   "name": "python",
   "nbconvert_exporter": "python",
   "pygments_lexer": "ipython3",
   "version": "3.10.18"
  }
 },
 "nbformat": 4,
 "nbformat_minor": 5
}
