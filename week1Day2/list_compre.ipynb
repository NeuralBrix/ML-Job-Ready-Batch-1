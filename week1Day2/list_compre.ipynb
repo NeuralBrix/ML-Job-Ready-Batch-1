{
 "cells": [
  {
   "cell_type": "code",
   "execution_count": 10,
   "id": "1f9efc9d",
   "metadata": {},
   "outputs": [
    {
     "name": "stdout",
     "output_type": "stream",
     "text": [
      "[0, 1, 4, 9, 16, 25, 36, 49, 64, 81]\n"
     ]
    }
   ],
   "source": [
    "squire = []\n",
    "\n",
    "for i in range(10):\n",
    "    squire.append(i**2)\n",
    "print(squire)"
   ]
  },
  {
   "cell_type": "code",
   "execution_count": null,
   "id": "c86c6b1f",
   "metadata": {},
   "outputs": [],
   "source": [
    "# [expression for item in iterable] "
   ]
  },
  {
   "cell_type": "code",
   "execution_count": 11,
   "id": "524c7aa9",
   "metadata": {},
   "outputs": [
    {
     "data": {
      "text/plain": [
       "[0, 1, 4, 9, 16, 25, 36, 49, 64, 81]"
      ]
     },
     "execution_count": 11,
     "metadata": {},
     "output_type": "execute_result"
    }
   ],
   "source": [
    "[i**2 for i in range(10)]"
   ]
  },
  {
   "cell_type": "code",
   "execution_count": 15,
   "id": "e00695e0",
   "metadata": {},
   "outputs": [
    {
     "data": {
      "text/plain": [
       "[0, 2, 4, 6, 8]"
      ]
     },
     "execution_count": 15,
     "metadata": {},
     "output_type": "execute_result"
    }
   ],
   "source": [
    "[i for i in range(0, 10, 2)] "
   ]
  },
  {
   "cell_type": "code",
   "execution_count": 16,
   "id": "9c44bcdd",
   "metadata": {},
   "outputs": [
    {
     "data": {
      "text/plain": [
       "[0, 2, 4, 6, 8]"
      ]
     },
     "execution_count": 16,
     "metadata": {},
     "output_type": "execute_result"
    }
   ],
   "source": [
    "list(range(0, 10, 2)) "
   ]
  },
  {
   "cell_type": "code",
   "execution_count": null,
   "id": "051d1e78",
   "metadata": {},
   "outputs": [],
   "source": []
  },
  {
   "cell_type": "code",
   "execution_count": null,
   "id": "ebc4d87a",
   "metadata": {},
   "outputs": [],
   "source": []
  },
  {
   "cell_type": "code",
   "execution_count": 1,
   "id": "24472c5a",
   "metadata": {},
   "outputs": [
    {
     "data": {
      "text/plain": [
       "717210796540436631"
      ]
     },
     "execution_count": 1,
     "metadata": {},
     "output_type": "execute_result"
    }
   ],
   "source": [
    "hash(\"accuracy\")  "
   ]
  },
  {
   "cell_type": "code",
   "execution_count": 2,
   "id": "64e0efb2",
   "metadata": {},
   "outputs": [
    {
     "data": {
      "text/plain": [
       "717210796540436631"
      ]
     },
     "execution_count": 2,
     "metadata": {},
     "output_type": "execute_result"
    }
   ],
   "source": [
    "hash(\"accuracy\")   "
   ]
  }
 ],
 "metadata": {
  "kernelspec": {
   "display_name": "mljobVenv",
   "language": "python",
   "name": "python3"
  },
  "language_info": {
   "codemirror_mode": {
    "name": "ipython",
    "version": 3
   },
   "file_extension": ".py",
   "mimetype": "text/x-python",
   "name": "python",
   "nbconvert_exporter": "python",
   "pygments_lexer": "ipython3",
   "version": "3.10.18"
  }
 },
 "nbformat": 4,
 "nbformat_minor": 5
}
