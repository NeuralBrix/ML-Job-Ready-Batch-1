{
 "cells": [
  {
   "cell_type": "code",
   "execution_count": 16,
   "id": "e9f59c23",
   "metadata": {},
   "outputs": [],
   "source": [
    "#basic if statement Syntax\n",
    "# if condition:\n",
    "#     statement\n",
    "\n",
    "age = 26\n",
    "if age>=29:\n",
    "   print(\"You already passed your half life\")"
   ]
  },
  {
   "cell_type": "code",
   "execution_count": 19,
   "id": "b8cbbae6",
   "metadata": {},
   "outputs": [
    {
     "name": "stdout",
     "output_type": "stream",
     "text": [
      "You are still young\n"
     ]
    }
   ],
   "source": [
    "#basic if-else statement\n",
    "age = 19\n",
    "if age>=29:\n",
    "    print(\"You already passed your half life\")\n",
    "else:\n",
    "    print(\"You are still young\")"
   ]
  },
  {
   "cell_type": "code",
   "execution_count": 21,
   "id": "089bc4e7",
   "metadata": {},
   "outputs": [
    {
     "name": "stdout",
     "output_type": "stream",
     "text": [
      "Your ticket price is $25\n"
     ]
    }
   ],
   "source": [
    "#if-elif-else Chain \n",
    "age = 12\n",
    "if age < 4:\n",
    "    price = 0\n",
    "elif age < 18:\n",
    "    price = 25\n",
    "else:\n",
    "    price = 40\n",
    "\n",
    "print(f\"Your ticket price is ${price}\")"
   ]
  },
  {
   "cell_type": "code",
   "execution_count": null,
   "id": "b48843c3",
   "metadata": {},
   "outputs": [],
   "source": [
    "# Comparison Operators\n",
    "# ==, !=, <, >, <=, >="
   ]
  },
  {
   "cell_type": "code",
   "execution_count": 8,
   "id": "57534205",
   "metadata": {},
   "outputs": [
    {
     "name": "stdout",
     "output_type": "stream",
     "text": [
      "True\n",
      "False\n"
     ]
    }
   ],
   "source": [
    "car = \"bmw\"\n",
    "print(car == \"bmw\") \n",
    "print(car != \"bmw\")  "
   ]
  },
  {
   "cell_type": "code",
   "execution_count": 23,
   "id": "7174fe7a",
   "metadata": {},
   "outputs": [
    {
     "name": "stdout",
     "output_type": "stream",
     "text": [
      "False\n",
      "True\n",
      "False\n",
      "True\n",
      "False\n",
      "True\n"
     ]
    }
   ],
   "source": [
    "#Numerical Comparison\n",
    "age = 19\n",
    "print(age == 18) #True\n",
    "print(age != 18) #False\n",
    "print(age < 18) #False\n",
    "print(age > 18) #False\n",
    "print(age <= 18) #True\n",
    "print(age >= 18) #True"
   ]
  },
  {
   "cell_type": "code",
   "execution_count": null,
   "id": "b18528d5",
   "metadata": {},
   "outputs": [
    {
     "name": "stdout",
     "output_type": "stream",
     "text": [
      "0\n",
      "1\n",
      "1\n",
      "2\n"
     ]
    }
   ],
   "source": [
    "# Logical Operator \n",
    "# and, or, not\n",
    "# and  mone korbo * (multiplication)\n",
    "# or  mone korbo + (addition)\n",
    "\n",
    "#and or syntax\n",
    "# if condition1 and condition2: \n",
    "#     statement\n",
    "# or syntax\n",
    "# if condition1 or condition2: \n",
    "#     statement\n",
    "\n",
    "\n",
    "\n",
    "#Logic of and operator\n",
    "print(0*1) \n",
    "print(1*1)\n",
    "\n",
    "#Logic of or operator\n",
    "print(1+0)\n",
    "print(1+1) \n",
    "\n"
   ]
  },
  {
   "cell_type": "code",
   "execution_count": 25,
   "id": "7078435c",
   "metadata": {},
   "outputs": [
    {
     "name": "stdout",
     "output_type": "stream",
     "text": [
      "True\n",
      "True\n"
     ]
    }
   ],
   "source": [
    "age = 65 \n",
    "print( age >= 18 and age == 65) # 1 * 1  = 1 # True \n",
    "print( age >= 18 or age != 65)  # 1 + 0 = 1 True"
   ]
  },
  {
   "cell_type": "code",
   "execution_count": 30,
   "id": "e88fddbf",
   "metadata": {},
   "outputs": [
    {
     "name": "stdout",
     "output_type": "stream",
     "text": [
      "True\n",
      "False\n",
      "False\n",
      "True\n"
     ]
    }
   ],
   "source": [
    "# Logical NOT operator\n",
    "x = True\n",
    "print(x)\n",
    "y = not x\n",
    "print(y) \n",
    "\n",
    "a = False\n",
    "print(a)\n",
    "a = not a   \n",
    "print(a) "
   ]
  },
  {
   "cell_type": "code",
   "execution_count": null,
   "id": "ebe75890",
   "metadata": {},
   "outputs": [
    {
     "name": "stdout",
     "output_type": "stream",
     "text": [
      "True\n",
      "False\n"
     ]
    }
   ],
   "source": [
    "# identity operator\n",
    "# is, is not\n",
    "\n",
    "x = 10\n",
    "y = 10\n",
    "\n",
    "print(x is y) # ==\n",
    "\n",
    "print(x is not y) # !=\n"
   ]
  },
  {
   "cell_type": "code",
   "execution_count": 43,
   "id": "88925df7",
   "metadata": {},
   "outputs": [
    {
     "name": "stdout",
     "output_type": "stream",
     "text": [
      "True\n",
      "False\n",
      "True\n"
     ]
    }
   ],
   "source": [
    "list1 = [1, 2, 3]\n",
    "list2 = list1\n",
    "list3 = [1, 2, 3]\n",
    "\n",
    "print(list1 is list2)\n",
    "print(list1 is list3)\n",
    "print(list1 == list3) "
   ]
  },
  {
   "cell_type": "code",
   "execution_count": 46,
   "id": "b34e3f3f",
   "metadata": {},
   "outputs": [
    {
     "name": "stdout",
     "output_type": "stream",
     "text": [
      "0x1a500a51800\n",
      "0x1a500a51800\n",
      "0x1a500a404c0\n"
     ]
    }
   ],
   "source": [
    "print(hex(id(list1)))\n",
    "print(hex(id(list2)))\n",
    "print(hex(id(list3)))\n"
   ]
  }
 ],
 "metadata": {
  "kernelspec": {
   "display_name": "mljobVenv",
   "language": "python",
   "name": "python3"
  },
  "language_info": {
   "codemirror_mode": {
    "name": "ipython",
    "version": 3
   },
   "file_extension": ".py",
   "mimetype": "text/x-python",
   "name": "python",
   "nbconvert_exporter": "python",
   "pygments_lexer": "ipython3",
   "version": "3.10.18"
  }
 },
 "nbformat": 4,
 "nbformat_minor": 5
}
