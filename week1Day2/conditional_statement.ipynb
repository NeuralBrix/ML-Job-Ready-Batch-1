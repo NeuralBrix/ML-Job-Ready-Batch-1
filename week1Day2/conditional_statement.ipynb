{
 "cells": [
  {
   "cell_type": "code",
   "execution_count": 3,
   "id": "e9f59c23",
   "metadata": {},
   "outputs": [
    {
     "name": "stdout",
     "output_type": "stream",
     "text": [
      "You already passed your half life\n"
     ]
    }
   ],
   "source": [
    "#basic if statement\n",
    "age = 29\n",
    "if age>=29:\n",
    "    print(\"You already passed your half life\")"
   ]
  },
  {
   "cell_type": "code",
   "execution_count": 6,
   "id": "b8cbbae6",
   "metadata": {},
   "outputs": [
    {
     "name": "stdout",
     "output_type": "stream",
     "text": [
      "You already passed your half life\n"
     ]
    }
   ],
   "source": [
    "#basic if-else statement\n",
    "age = 30\n",
    "if age>=29:\n",
    "    print(\"You already passed your half life\")\n",
    "else:\n",
    "    print(\"You are still young\")"
   ]
  },
  {
   "cell_type": "code",
   "execution_count": 7,
   "id": "089bc4e7",
   "metadata": {},
   "outputs": [
    {
     "name": "stdout",
     "output_type": "stream",
     "text": [
      "Your ticket price is $25\n"
     ]
    }
   ],
   "source": [
    "#if-elif-else Chain \n",
    "age = 12\n",
    "if age < 4:\n",
    "    price = 0\n",
    "elif age < 18:\n",
    "    price = 25\n",
    "else:\n",
    "    price = 40\n",
    "\n",
    "print(f\"Your ticket price is ${price}\")"
   ]
  },
  {
   "cell_type": "code",
   "execution_count": null,
   "id": "b48843c3",
   "metadata": {},
   "outputs": [],
   "source": [
    "# Comparison Operators\n",
    "# ==, !=, <, >, <=, >="
   ]
  },
  {
   "cell_type": "code",
   "execution_count": 8,
   "id": "57534205",
   "metadata": {},
   "outputs": [
    {
     "name": "stdout",
     "output_type": "stream",
     "text": [
      "True\n",
      "False\n"
     ]
    }
   ],
   "source": [
    "car = \"bmw\"\n",
    "print(car == \"bmw\") \n",
    "print(car != \"bmw\")  "
   ]
  },
  {
   "cell_type": "code",
   "execution_count": 9,
   "id": "7174fe7a",
   "metadata": {},
   "outputs": [
    {
     "name": "stdout",
     "output_type": "stream",
     "text": [
      "True\n",
      "False\n",
      "False\n",
      "False\n",
      "True\n",
      "True\n"
     ]
    }
   ],
   "source": [
    "#Numerical Comparison\n",
    "age = 18\n",
    "print(age == 18) #True\n",
    "print(age != 18) #False\n",
    "print(age < 18) #False\n",
    "print(age > 18) #False\n",
    "print(age <= 18) #True\n",
    "print(age >= 18) #True"
   ]
  },
  {
   "cell_type": "code",
   "execution_count": 11,
   "id": "b18528d5",
   "metadata": {},
   "outputs": [
    {
     "name": "stdout",
     "output_type": "stream",
     "text": [
      "0\n",
      "1\n",
      "1\n",
      "2\n"
     ]
    }
   ],
   "source": [
    "# Logical Operator \n",
    "# and, or, not\n",
    "# and  mone korbo * (multiplication)\n",
    "# or  mone korbo + (addition)\n",
    "\n",
    "#Logic of and operator\n",
    "print(1*0) \n",
    "print(1*1)\n",
    "\n",
    "#Logic of or operator\n",
    "print(1+0)\n",
    "print(1+1) \n",
    "\n"
   ]
  },
  {
   "cell_type": "code",
   "execution_count": 14,
   "id": "7078435c",
   "metadata": {},
   "outputs": [
    {
     "name": "stdout",
     "output_type": "stream",
     "text": [
      "True\n",
      "True\n"
     ]
    }
   ],
   "source": [
    "age = 65 \n",
    "print( age >= 18 and age == 65) # 1 * 0  = 0 False \n",
    "print( age >= 18 or age != 65)  # 1 + 0 = 1 True"
   ]
  },
  {
   "cell_type": "code",
   "execution_count": 12,
   "id": "e88fddbf",
   "metadata": {},
   "outputs": [
    {
     "name": "stdout",
     "output_type": "stream",
     "text": [
      "True\n"
     ]
    }
   ],
   "source": [
    "print(age >= 18)"
   ]
  },
  {
   "cell_type": "code",
   "execution_count": null,
   "id": "9793a11d",
   "metadata": {},
   "outputs": [],
   "source": []
  },
  {
   "cell_type": "code",
   "execution_count": null,
   "id": "ebe75890",
   "metadata": {},
   "outputs": [],
   "source": []
  },
  {
   "cell_type": "code",
   "execution_count": null,
   "id": "88925df7",
   "metadata": {},
   "outputs": [],
   "source": []
  },
  {
   "cell_type": "code",
   "execution_count": null,
   "id": "b34e3f3f",
   "metadata": {},
   "outputs": [],
   "source": []
  }
 ],
 "metadata": {
  "kernelspec": {
   "display_name": "mljobVenv",
   "language": "python",
   "name": "python3"
  },
  "language_info": {
   "codemirror_mode": {
    "name": "ipython",
    "version": 3
   },
   "file_extension": ".py",
   "mimetype": "text/x-python",
   "name": "python",
   "nbconvert_exporter": "python",
   "pygments_lexer": "ipython3",
   "version": "3.10.18"
  }
 },
 "nbformat": 4,
 "nbformat_minor": 5
}
