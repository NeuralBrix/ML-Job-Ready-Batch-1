{
 "cells": [
  {
   "cell_type": "markdown",
   "id": "a56f62ad",
   "metadata": {},
   "source": []
  },
  {
   "cell_type": "code",
   "execution_count": null,
   "id": "b64a0aef",
   "metadata": {},
   "outputs": [],
   "source": []
  },
  {
   "cell_type": "code",
   "execution_count": null,
   "id": "168e9fd9",
   "metadata": {},
   "outputs": [],
   "source": [
    "(), {}, []"
   ]
  },
  {
   "cell_type": "code",
   "execution_count": null,
   "id": "bd2bc522",
   "metadata": {},
   "outputs": [
    {
     "name": "stdout",
     "output_type": "stream",
     "text": [
      "False\n",
      "False\n",
      "True\n",
      "False\n",
      "True\n",
      "False\n"
     ]
    }
   ],
   "source": [
    "tup_1 = (1,2,3,4,5)\n",
    "tup_2 = (1,2,3,4,5)\n",
    "set_1 = {1,2,3,4,5}\n",
    "set_2 = {1,2,3,4,5}\n",
    "list_1 = [1,2,3,4,5]\n",
    "list_2 = [1,2,3,4,5]\n",
    "\n",
    "\n",
    "print(tup_1 == tup_2)\n",
    "print(tup_1 is tup_2)\n",
    "print(set_1 == set_2)\n",
    "print(set_1 is set_2)\n",
    "print(list_1 == list_2)\n",
    "print(list_1 is list_2)"
   ]
  },
  {
   "cell_type": "code",
   "execution_count": 4,
   "id": "302c2725",
   "metadata": {},
   "outputs": [
    {
     "name": "stdout",
     "output_type": "stream",
     "text": [
      "[10, 2, 3, 4, 5]\n"
     ]
    }
   ],
   "source": [
    "list_1[0] = 10  # This will change the first element of the list to 10\n",
    "print(list_1)"
   ]
  },
  {
   "cell_type": "code",
   "execution_count": null,
   "id": "b7b96929",
   "metadata": {},
   "outputs": [
    {
     "name": "stdout",
     "output_type": "stream",
     "text": [
      "True\n",
      "False\n"
     ]
    }
   ],
   "source": [
    "list_1 = [1,2,3,4,5] # [0,1,2,3,4]\n",
    "list_2 = [1,2,3,4,5] \n",
    "my_name = \"mehedi hasan\"\n",
    "\n",
    "\n",
    "print(list_1 == list_2) \n",
    "print(list_1 is list_2) "
   ]
  },
  {
   "cell_type": "code",
   "execution_count": null,
   "id": "b6b3b337",
   "metadata": {},
   "outputs": [
    {
     "name": "stdout",
     "output_type": "stream",
     "text": [
      "False\n"
     ]
    }
   ],
   "source": [
    "# -5, 256 # same memory location\n",
    "\n",
    "a = 1000 \n",
    "b = 1000\n",
    "print(a is b)"
   ]
  },
  {
   "cell_type": "code",
   "execution_count": null,
   "id": "bf6df4b6",
   "metadata": {},
   "outputs": [],
   "source": [
    "[], {}, \"str\""
   ]
  },
  {
   "cell_type": "code",
   "execution_count": null,
   "id": "bd6a180d",
   "metadata": {},
   "outputs": [],
   "source": [
    "#mehediHasanBinHfiz : camel case\n",
    "\n",
    "#MehediHasanBinHfiz : title case"
   ]
  },
  {
   "cell_type": "code",
   "execution_count": null,
   "id": "3df1e6b7",
   "metadata": {},
   "outputs": [],
   "source": []
  },
  {
   "cell_type": "code",
   "execution_count": null,
   "id": "0550a9ca",
   "metadata": {},
   "outputs": [],
   "source": []
  },
  {
   "cell_type": "code",
   "execution_count": null,
   "id": "82ca978e",
   "metadata": {},
   "outputs": [],
   "source": []
  }
 ],
 "metadata": {
  "kernelspec": {
   "display_name": "mljobVenv",
   "language": "python",
   "name": "python3"
  },
  "language_info": {
   "codemirror_mode": {
    "name": "ipython",
    "version": 3
   },
   "file_extension": ".py",
   "mimetype": "text/x-python",
   "name": "python",
   "nbconvert_exporter": "python",
   "pygments_lexer": "ipython3",
   "version": "3.10.18"
  }
 },
 "nbformat": 4,
 "nbformat_minor": 5
}
